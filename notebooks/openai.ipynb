{
 "cells": [
  {
   "cell_type": "code",
   "execution_count": 39,
   "metadata": {},
   "outputs": [],
   "source": [
    "from dotenv import load_dotenv\n",
    "from httpx import AsyncClient\n",
    "from langchain.chat_models import ChatOpenAI\n",
    "\n",
    "load_dotenv()\n",
    "rq = AsyncClient()\n",
    "chat_model = ChatOpenAI(http_client=rq, model=\"gpt-3.5-turbo-1106\", temperature=0.6)"
   ]
  },
  {
   "cell_type": "code",
   "execution_count": 40,
   "metadata": {},
   "outputs": [
    {
     "data": {
      "text/plain": [
       "AIMessage(content=\"Hello! I'm just a language model AI, so I don't have feelings, but I'm here to help you. How can I assist you today?\")"
      ]
     },
     "execution_count": 40,
     "metadata": {},
     "output_type": "execute_result"
    }
   ],
   "source": [
    "from langchain.schema import HumanMessage\n",
    "\n",
    "text = \"Hello, how are you?\"\n",
    "messages = [HumanMessage(content=text)]\n",
    "\n",
    "\n",
    "res = await chat_model.ainvoke(input=messages)  # type: ignore\n",
    "res"
   ]
  },
  {
   "cell_type": "markdown",
   "metadata": {},
   "source": [
    "### Load documents from URLs"
   ]
  },
  {
   "cell_type": "code",
   "execution_count": 41,
   "metadata": {},
   "outputs": [
    {
     "name": "stderr",
     "output_type": "stream",
     "text": [
      "Fetching pages: 100%|##########| 1/1 [00:00<00:00,  4.87it/s]\n"
     ]
    },
    {
     "data": {
      "text/plain": [
       "Document(page_content='\\n\\n\\n\\n\\n\\n\\n\\n\\n\\n\\n\\n\\n\\n\\n\\n\\n\\n\\n\\nFacility Hours - University of Houston\\n\\n\\n\\n\\n\\n\\n\\n\\n\\n\\n\\n\\n\\nSkip to main content Restrict my search to Campus Recreation Submit Close\\n\\n\\n\\n\\nStudent Affairs Login to AccessUHGive to UH SearchCampus RecreationHomeHoursAbout UsMission, Vision & ValuesHealth and WellbeingCoogsCARETelling Our StoryHistorySpotlightsRenovation ProjectsData and StatisticsArtworkCampus Recreation StaffStudent EmploymentNews & AnnouncementsAquaticsAdult Swim LessonsPrivate Swim LessonsSafety TrainingSpecial EventsReservations and RentalsAquatic PoliciesRenovation UpdatesFacilities and RentalsFacility HoursFacility Renovations 23-24Live Facility CountsFacility PoliciesFacility ToursReservations and Special EventsFacility DetailsRenovation and UpgradesCampus Recreation - On the GoFitnessGroup FitnessSmall Group Training Personal TrainingFitness AssessmentsFIT for HIRECertification TrainingNutrition ConsultationSpecial EventsActive with ArtRED ZoneRec Sports & Family ProgramsIntramural SportsHow to registerBecome an OfficialFrequently Asked QuestionsIMS Registration PortalChampions CircleSport ClubsActive ClubsFormsStarting a New Sport ClubMember ServicesServicesLocker ServiceTowel ServicePro ShopPassesLost and FoundMembership EligibilityUH StudentsFaculty/Staff/RetireeAlumniUH AffiliateSummer MembershipSponsored MembershipsUH StudentUH Faculty/Staff/RetireeUH AlumniUH AffiliateFrequently Asked QuestionsMembership CancellationsOutdoor AdventureClimbing WallTripsRentalsTeam BuildingPlan Your Own AdventureGiving\\n\\nUH HomeCampus RecreationFacilities and RentalsFacility Hours\\n\\n\\nFacilities and RentalsFacility HoursFacility Renovations 23-24Live Facility CountsFacility PoliciesFacility ToursReservations and Special EventsFacility DetailsRenovation and UpgradesOn the Go\\n\\nRelated LinksCRWC Hours 2023-2024\\n\\n\\nFacility Hours\\nYou must have your Cougar Card or Campus Recreation membership card to enter the facility. A two-time courtesy visit will be issued for those who forget their ID. The courtesy visit can only be used twice a semester at which time the required credentials must be presented before accessing the facility. Students who don’t have their ID to use the digital ID through the UH Go App.\\nAccess to the facility will be granted once you sign a facility waiver. Please log into the Campus Recreation portal MYREC.UH.EDU before coming to the Rec Center to expedite your entry.\\nFacebook Twitter Instagram\\nHours of Operation\\nYour browser does not support inline frames or is currently configured not to display inline frames.\\nCampus Recreation and Wellness Center Hours\\n\\n\\n\\n\\nAugust 1, 2023\\xa0 - May 9, 2024*\\nJune 3 - July 31, 2024\\n\\n\\nMonday – Thursday\\n6:00 am - 11:30 pm\\n6:00 am - 10:00 pm\\n\\n\\nFriday\\n6:00 am - 10:00 pm\\n6:00 am - 8:00 pm\\n\\n\\nSaturday\\n8:00 am - 8:00 pm\\n10:00 am - 8:00 pm\\n\\n\\nSunday\\n12:00 pm - 11:30 pm\\n12:00 pm - 10:00 pm\\n\\n\\n\\n* Entrance re-located to MLK Blvd side from August 2023 to January 2024* The 2nd floor (Fitness Zone, Track, Multipurpose 3, 4 & 5 ) will be closed from November 20, 2023 through January 16, 2024, for renovations.\\xa0\\nAdministrative Office\\n\\n\\n\\nMonday – Friday\\n8:00 am – 5:00 pm\\n\\n\\n\\n\\xa0Natatorium\\xa0\\n\\n\\n\\nMonday – Thursday\\n6:00 am – 9:00 am and 12 - 9:00 pm\\n\\n\\nFriday\\xa0\\n6:00 am - 9:00 am and 12 - 7:30pm\\n\\n\\nSaturday\\n10:00 am - 7:30 pm\\n\\n\\nSunday\\n12:00 - 7:30 pm\\xa0\\n\\n\\n\\nOutdoor Leisure Pool\\xa0 Closed until April 2024\\nOutdoor Adventure - Rentals\\xa0\\n\\n\\n\\nMonday and Friday\\n10:00 am – 2:00 pm\\n\\n\\nSaturday & Sunday\\nClosed\\n\\n\\n\\n\\xa0Rec Sports Office\\n\\n\\n\\nMonday – Friday\\n9:00 am – 4:00 pm\\n\\n\\nSaturday & Sunday\\nClosed\\n\\n\\n\\nTennis Courts3100 Cullen Blvd. Houston, Texas 77204\\nGertner Fields2817 Cullen Blvd. Houston, Texas 77204\\n\\xa0\\nEvent Schedule\\n\\n\\n\\n\\n\\n\\n\\n\\n  \\nUniversity of Houston  Houston, Texas 77204   (713) 743-2255\\n\\n\\n\\nA–Z Index\\nAcademic Calendar\\nCampus Carry Policy\\nCampus Map\\nCareer Opportunities\\nDirectory\\nEmergency Information\\nGet Help\\nHuman Resources\\nLibrary\\nMental Health Resources\\nOffice of the President\\nParking\\nReport Copyright Infringement\\nDiscrimination and Sexual Misconduct Reporting and Awareness\\nOpen Records/Public Information Act\\nTexas Veterans Portal\\nTuition & Fees\\nUH System\\nVirtual Tour\\n\\n\\n     \\n  \\xa0  \\n  \\xa0   \\n  \\xa0  \\n \\n     \\n \\n  \\xa0   \\n\\n\\n\\n  \\n\\n©2023 University of Houston. All rights reserved.\\n\\nReport a problem with this page\\nTexas.gov\\nTexas Homeland Security\\nTRAIL\\nFraud Reporting\\nFraud & Non-Compliance Hotline\\nLinking Notice\\nPrivacy Notice\\nOpen Records/Public Information Act\\nInstitutional Résumé\\nRequired Reports\\nElectronic & Information Resources Accessibility\\nDiscrimination and Sexual Misconduct Reporting and Awareness\\nUniversity Policies\\n\\n\\n  \\n                         \\n\\n', metadata={'source': 'https://uh.edu/recreation/facilities/facility-hours', 'title': 'Facility Hours - University of Houston', 'description': 'Facility Hours', 'language': 'en'})"
      ]
     },
     "execution_count": 41,
     "metadata": {},
     "output_type": "execute_result"
    }
   ],
   "source": [
    "# fixes a bug with asyncio and jupyter\n",
    "import nest_asyncio\n",
    "from langchain.document_loaders.sitemap import SitemapLoader\n",
    "\n",
    "nest_asyncio.apply()\n",
    "\n",
    "reference_url = \"https://uh.edu/recreation/facilities/facility-hours\"\n",
    "\n",
    "sitemap_loader = SitemapLoader(web_path=reference_url)\n",
    "sitemap_loader.requests_kwargs = {\"verify\": False}\n",
    "\n",
    "docs = sitemap_loader.aload()\n",
    "docs[0]"
   ]
  },
  {
   "cell_type": "code",
   "execution_count": 42,
   "metadata": {},
   "outputs": [
    {
     "data": {
      "text/plain": [
       "VectorStoreRetriever(tags=['Qdrant', 'OpenAIEmbeddings'], vectorstore=<langchain_community.vectorstores.qdrant.Qdrant object at 0x7f2bb8365910>, search_kwargs={'k': 1})"
      ]
     },
     "execution_count": 42,
     "metadata": {},
     "output_type": "execute_result"
    }
   ],
   "source": [
    "from langchain.embeddings import OpenAIEmbeddings\n",
    "from langchain.vectorstores.qdrant import Qdrant\n",
    "\n",
    "embedding = OpenAIEmbeddings()\n",
    "\n",
    "vector_store = await Qdrant.afrom_documents(\n",
    "    docs, embedding=embedding, location=\":memory:\", collection_name=reference_url\n",
    ")\n",
    "retriever = vector_store.as_retriever(search_kwargs={\"k\": 1})\n",
    "retriever"
   ]
  },
  {
   "cell_type": "code",
   "execution_count": 43,
   "metadata": {},
   "outputs": [],
   "source": [
    "from langchain.prompts import ChatPromptTemplate\n",
    "from langchain.prompts.prompt import PromptTemplate\n",
    "\n",
    "_template = \"\"\"Given the following conversation and a follow up question, rephrase the follow up question to be a standalone question, in its original language.\n",
    "\n",
    "Chat History:\n",
    "{chat_history}\n",
    "Follow Up Input: {question}\n",
    "Standalone question:\"\"\"\n",
    "\n",
    "CONDENSE_QUESTION_PROMPT = PromptTemplate.from_template(_template)\n",
    "\n",
    "template = \"\"\"Answer the question based only on the following context:\n",
    "{context}\n",
    "\n",
    "Here is today's date and time with timezone info:\n",
    "{datetime}\n",
    "\n",
    "Question: {question}\n",
    "\"\"\"\n",
    "ANSWER_PROMPT = ChatPromptTemplate.from_template(template)"
   ]
  },
  {
   "cell_type": "code",
   "execution_count": 44,
   "metadata": {},
   "outputs": [],
   "source": [
    "from datetime import datetime\n",
    "from operator import itemgetter\n",
    "\n",
    "from dateutil import tz\n",
    "from langchain.memory import ConversationBufferMemory\n",
    "from langchain.schema import format_document\n",
    "from langchain_core.messages import get_buffer_string\n",
    "from langchain_core.output_parsers import StrOutputParser\n",
    "from langchain_core.runnables import (\n",
    "    RunnableLambda,\n",
    "    RunnablePassthrough,\n",
    ")\n",
    "\n",
    "memory = ConversationBufferMemory(\n",
    "    return_messages=True, output_key=\"answer\", input_key=\"question\"\n",
    ")\n",
    "\n",
    "loaded_memory = RunnablePassthrough.assign(\n",
    "    chat_history=RunnableLambda(memory.load_memory_variables) | itemgetter(\"history\"),\n",
    ")\n",
    "\n",
    "DEFAULT_DOCUMENT_PROMPT = PromptTemplate.from_template(template=\"{page_content}\")\n",
    "\n",
    "\n",
    "def _combine_documents(\n",
    "    docs, document_prompt=DEFAULT_DOCUMENT_PROMPT, document_separator=\"\\n\\n\"\n",
    "):\n",
    "    doc_strings = [format_document(doc, document_prompt) for doc in docs]\n",
    "    return document_separator.join(doc_strings)\n",
    "\n",
    "\n",
    "# Now we calculate the standalone question\n",
    "standalone_question = {\n",
    "    \"standalone_question\": {\n",
    "        \"question\": lambda x: x[\"question\"],\n",
    "        \"chat_history\": lambda x: get_buffer_string(x[\"chat_history\"]),\n",
    "    }\n",
    "    | CONDENSE_QUESTION_PROMPT\n",
    "    | ChatOpenAI(temperature=0)\n",
    "    | StrOutputParser(),\n",
    "}\n",
    "\n",
    "# Now we retrieve the documents\n",
    "retrieved_documents = {\n",
    "    \"docs\": itemgetter(\"standalone_question\") | retriever,\n",
    "    \"question\": lambda x: x[\"standalone_question\"],\n",
    "}\n",
    "\n",
    "time_str_format = \"%A %B %d, %Y %I:%M %p %Z\"\n",
    "tzinfo = tz.gettz(\"America / Chicago\")\n",
    "\n",
    "# Now we construct the inputs for the final prompt\n",
    "final_inputs = {\n",
    "    \"context\": lambda x: _combine_documents(x[\"docs\"]),\n",
    "    \"datetime\": lambda x: datetime.now(tz=tzinfo).strftime(time_str_format),\n",
    "    \"question\": itemgetter(\"question\"),\n",
    "}\n",
    "\n",
    "# And finally, we do the part that returns the answers\n",
    "answer = {\n",
    "    \"answer\": final_inputs | ANSWER_PROMPT | chat_model,\n",
    "    \"docs\": itemgetter(\"docs\"),\n",
    "}\n",
    "\n",
    "final_chain = loaded_memory | standalone_question | retrieved_documents | answer"
   ]
  },
  {
   "cell_type": "code",
   "execution_count": 45,
   "metadata": {},
   "outputs": [],
   "source": [
    "async def query_facility_hours(question: str):\n",
    "    inputs = {\"question\": question}\n",
    "    return await final_chain.ainvoke(inputs)"
   ]
  },
  {
   "cell_type": "code",
   "execution_count": 52,
   "metadata": {},
   "outputs": [
    {
     "data": {
      "text/plain": [
       "{'answer': AIMessage(content='The opening hours of the natatorium on Monday are 6:00 am - 9:00 am and 12 - 9:00 pm.'),\n",
       " 'docs': [Document(page_content='\\n\\n\\n\\n\\n\\n\\n\\n\\n\\n\\n\\n\\n\\n\\n\\n\\n\\n\\n\\nFacility Hours - University of Houston\\n\\n\\n\\n\\n\\n\\n\\n\\n\\n\\n\\n\\n\\nSkip to main content Restrict my search to Campus Recreation Submit Close\\n\\n\\n\\n\\nStudent Affairs Login to AccessUHGive to UH SearchCampus RecreationHomeHoursAbout UsMission, Vision & ValuesHealth and WellbeingCoogsCARETelling Our StoryHistorySpotlightsRenovation ProjectsData and StatisticsArtworkCampus Recreation StaffStudent EmploymentNews & AnnouncementsAquaticsAdult Swim LessonsPrivate Swim LessonsSafety TrainingSpecial EventsReservations and RentalsAquatic PoliciesRenovation UpdatesFacilities and RentalsFacility HoursFacility Renovations 23-24Live Facility CountsFacility PoliciesFacility ToursReservations and Special EventsFacility DetailsRenovation and UpgradesCampus Recreation - On the GoFitnessGroup FitnessSmall Group Training Personal TrainingFitness AssessmentsFIT for HIRECertification TrainingNutrition ConsultationSpecial EventsActive with ArtRED ZoneRec Sports & Family ProgramsIntramural SportsHow to registerBecome an OfficialFrequently Asked QuestionsIMS Registration PortalChampions CircleSport ClubsActive ClubsFormsStarting a New Sport ClubMember ServicesServicesLocker ServiceTowel ServicePro ShopPassesLost and FoundMembership EligibilityUH StudentsFaculty/Staff/RetireeAlumniUH AffiliateSummer MembershipSponsored MembershipsUH StudentUH Faculty/Staff/RetireeUH AlumniUH AffiliateFrequently Asked QuestionsMembership CancellationsOutdoor AdventureClimbing WallTripsRentalsTeam BuildingPlan Your Own AdventureGiving\\n\\nUH HomeCampus RecreationFacilities and RentalsFacility Hours\\n\\n\\nFacilities and RentalsFacility HoursFacility Renovations 23-24Live Facility CountsFacility PoliciesFacility ToursReservations and Special EventsFacility DetailsRenovation and UpgradesOn the Go\\n\\nRelated LinksCRWC Hours 2023-2024\\n\\n\\nFacility Hours\\nYou must have your Cougar Card or Campus Recreation membership card to enter the facility. A two-time courtesy visit will be issued for those who forget their ID. The courtesy visit can only be used twice a semester at which time the required credentials must be presented before accessing the facility. Students who don’t have their ID to use the digital ID through the UH Go App.\\nAccess to the facility will be granted once you sign a facility waiver. Please log into the Campus Recreation portal MYREC.UH.EDU before coming to the Rec Center to expedite your entry.\\nFacebook Twitter Instagram\\nHours of Operation\\nYour browser does not support inline frames or is currently configured not to display inline frames.\\nCampus Recreation and Wellness Center Hours\\n\\n\\n\\n\\nAugust 1, 2023\\xa0 - May 9, 2024*\\nJune 3 - July 31, 2024\\n\\n\\nMonday – Thursday\\n6:00 am - 11:30 pm\\n6:00 am - 10:00 pm\\n\\n\\nFriday\\n6:00 am - 10:00 pm\\n6:00 am - 8:00 pm\\n\\n\\nSaturday\\n8:00 am - 8:00 pm\\n10:00 am - 8:00 pm\\n\\n\\nSunday\\n12:00 pm - 11:30 pm\\n12:00 pm - 10:00 pm\\n\\n\\n\\n* Entrance re-located to MLK Blvd side from August 2023 to January 2024* The 2nd floor (Fitness Zone, Track, Multipurpose 3, 4 & 5 ) will be closed from November 20, 2023 through January 16, 2024, for renovations.\\xa0\\nAdministrative Office\\n\\n\\n\\nMonday – Friday\\n8:00 am – 5:00 pm\\n\\n\\n\\n\\xa0Natatorium\\xa0\\n\\n\\n\\nMonday – Thursday\\n6:00 am – 9:00 am and 12 - 9:00 pm\\n\\n\\nFriday\\xa0\\n6:00 am - 9:00 am and 12 - 7:30pm\\n\\n\\nSaturday\\n10:00 am - 7:30 pm\\n\\n\\nSunday\\n12:00 - 7:30 pm\\xa0\\n\\n\\n\\nOutdoor Leisure Pool\\xa0 Closed until April 2024\\nOutdoor Adventure - Rentals\\xa0\\n\\n\\n\\nMonday and Friday\\n10:00 am – 2:00 pm\\n\\n\\nSaturday & Sunday\\nClosed\\n\\n\\n\\n\\xa0Rec Sports Office\\n\\n\\n\\nMonday – Friday\\n9:00 am – 4:00 pm\\n\\n\\nSaturday & Sunday\\nClosed\\n\\n\\n\\nTennis Courts3100 Cullen Blvd. Houston, Texas 77204\\nGertner Fields2817 Cullen Blvd. Houston, Texas 77204\\n\\xa0\\nEvent Schedule\\n\\n\\n\\n\\n\\n\\n\\n\\n  \\nUniversity of Houston  Houston, Texas 77204   (713) 743-2255\\n\\n\\n\\nA–Z Index\\nAcademic Calendar\\nCampus Carry Policy\\nCampus Map\\nCareer Opportunities\\nDirectory\\nEmergency Information\\nGet Help\\nHuman Resources\\nLibrary\\nMental Health Resources\\nOffice of the President\\nParking\\nReport Copyright Infringement\\nDiscrimination and Sexual Misconduct Reporting and Awareness\\nOpen Records/Public Information Act\\nTexas Veterans Portal\\nTuition & Fees\\nUH System\\nVirtual Tour\\n\\n\\n     \\n  \\xa0  \\n  \\xa0   \\n  \\xa0  \\n \\n     \\n \\n  \\xa0   \\n\\n\\n\\n  \\n\\n©2023 University of Houston. All rights reserved.\\n\\nReport a problem with this page\\nTexas.gov\\nTexas Homeland Security\\nTRAIL\\nFraud Reporting\\nFraud & Non-Compliance Hotline\\nLinking Notice\\nPrivacy Notice\\nOpen Records/Public Information Act\\nInstitutional Résumé\\nRequired Reports\\nElectronic & Information Resources Accessibility\\nDiscrimination and Sexual Misconduct Reporting and Awareness\\nUniversity Policies\\n\\n\\n  \\n                         \\n\\n', metadata={'source': 'https://uh.edu/recreation/facilities/facility-hours', 'title': 'Facility Hours - University of Houston', 'description': 'Facility Hours', 'language': 'en'})]}"
      ]
     },
     "execution_count": 52,
     "metadata": {},
     "output_type": "execute_result"
    }
   ],
   "source": [
    "await query_facility_hours(\"what time ranges is the natatorium open on monday?\")"
   ]
  }
 ],
 "metadata": {
  "kernelspec": {
   "display_name": "chatpage-pamAGCXH-py3.12",
   "language": "python",
   "name": "python3"
  },
  "language_info": {
   "codemirror_mode": {
    "name": "ipython",
    "version": 3
   },
   "file_extension": ".py",
   "mimetype": "text/x-python",
   "name": "python",
   "nbconvert_exporter": "python",
   "pygments_lexer": "ipython3",
   "version": "3.12.0"
  }
 },
 "nbformat": 4,
 "nbformat_minor": 2
}
